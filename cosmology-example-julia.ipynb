{
 "cells": [
  {
   "cell_type": "code",
   "execution_count": 1,
   "metadata": {
    "collapsed": false
   },
   "outputs": [],
   "source": [
    "import Cosmology\n",
    "using Gadfly\n",
    "using Distributions"
   ]
  },
  {
   "cell_type": "code",
   "execution_count": 2,
   "metadata": {
    "collapsed": false
   },
   "outputs": [
    {
     "data": {
      "text/plain": [
       "3.04"
      ]
     },
     "execution_count": 2,
     "metadata": {},
     "output_type": "execute_result"
    }
   ],
   "source": [
    "# fix Tcmb, Neff\n",
    "const Tcmb = 2.7255\n",
    "const Neff = 3.04"
   ]
  },
  {
   "cell_type": "code",
   "execution_count": 3,
   "metadata": {
    "collapsed": false
   },
   "outputs": [
    {
     "data": {
      "text/plain": [
       "distmod"
      ]
     },
     "execution_count": 3,
     "metadata": {},
     "output_type": "execute_result"
    }
   ],
   "source": [
    "\"\"\"\n",
    "distmod(z, h, OmegaM)\n",
    "\n",
    "Distance modululus at redshift `z` for a FlatLCDM cosmology with parameters `h` and `OmegaM`.\n",
    "\"\"\"\n",
    "function distmod(z::Real, h::Real, OmegaM::Real)\n",
    "\n",
    "    # compute OmegaR\n",
    "    OmegaG = 4.48131e-7 * Tcmb^4 / h^2\n",
    "    OmegaN = Neff * OmegaG * (7/8) * (4/11)^(4/3)\n",
    "    OmegaR = OmegaG + OmegaN\n",
    "\n",
    "    cosmo = Cosmology.FlatLCDM(h, 1.0 - OmegaM - OmegaR, OmegaM, OmegaR)\n",
    "\n",
    "    return Cosmology.distmod(cosmo, z)\n",
    "end"
   ]
  },
  {
   "cell_type": "code",
   "execution_count": 4,
   "metadata": {
    "collapsed": false
   },
   "outputs": [],
   "source": [
    "# Generate some data\n",
    "h = 0.7\n",
    "OmegaM = 0.3\n",
    "M_B = -19.3\n",
    "\n",
    "# we make our data const so that our likelihood function (below) is type-stable\n",
    "const N = 100\n",
    "const z = rand(N)\n",
    "const mb_err = 0.1 .+ 0.3 .* rand(N)\n",
    "\n",
    "# add some noise\n",
    "mb_true = [M_B + distmod(zi, h, OmegaM) for zi in z]\n",
    "const mb = [rand(Normal(mb_true[i], mb_err[i])) for i in 1:N];"
   ]
  },
  {
   "cell_type": "code",
   "execution_count": null,
   "metadata": {
    "collapsed": false
   },
   "outputs": [],
   "source": [
    "plot(layer(x=z, y=mb, ymin=mb.-mb_err, ymax=mb.+mb_err, Geom.point, Geom.errorbar))"
   ]
  },
  {
   "cell_type": "code",
   "execution_count": null,
   "metadata": {
    "collapsed": false
   },
   "outputs": [],
   "source": [
    "# Define log likelihood\n",
    "function lnlike{T}(x::Vector{T})  # x = [M_B, h, OmegaM]\n",
    "    s = zero(T)\n",
    "    for i in 1:N\n",
    "        mb_model = x[1] + distmod(z[i], x[2], x[3])\n",
    "        s += ((mb[i] - mb_model) / mb_err[i])^2\n",
    "    end\n",
    "    return -0.5 * s\n",
    "end"
   ]
  },
  {
   "cell_type": "markdown",
   "metadata": {},
   "source": [
    "## Exact vs approximate gradient of likelihood"
   ]
  },
  {
   "cell_type": "code",
   "execution_count": null,
   "metadata": {
    "collapsed": true
   },
   "outputs": [],
   "source": [
    "using ForwardDiff\n",
    "using TimeIt"
   ]
  },
  {
   "cell_type": "code",
   "execution_count": null,
   "metadata": {
    "collapsed": false
   },
   "outputs": [],
   "source": [
    "ForwardDiff.gradient(lnlike, [-19.1, 0.75, 0.25], Chunk{3}())"
   ]
  },
  {
   "cell_type": "code",
   "execution_count": null,
   "metadata": {
    "collapsed": false
   },
   "outputs": [],
   "source": [
    "function approx_grad(f, x; dx=sqrt(eps(eltype(x))))\n",
    "    grad = zeros(x)\n",
    "    xtmp = copy(x)\n",
    "    val = f(x)\n",
    "    for i in 1:length(grad)\n",
    "        xtmp[i] += dx\n",
    "        grad[i] = (f(xtmp) - val) / dx\n",
    "        xtmp[i] -= dx\n",
    "    end\n",
    "    \n",
    "    return grad\n",
    "end"
   ]
  },
  {
   "cell_type": "code",
   "execution_count": null,
   "metadata": {
    "collapsed": false
   },
   "outputs": [],
   "source": [
    "approx_grad(lnlike, [-19.1, 0.75, 0.25])"
   ]
  }
 ],
 "metadata": {
  "kernelspec": {
   "display_name": "Julia 0.6.0-dev",
   "language": "julia",
   "name": "julia-0.6"
  },
  "language_info": {
   "file_extension": ".jl",
   "mimetype": "application/julia",
   "name": "julia",
   "version": "0.6.0"
  }
 },
 "nbformat": 4,
 "nbformat_minor": 0
}
