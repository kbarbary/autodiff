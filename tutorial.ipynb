{
 "cells": [
  {
   "cell_type": "markdown",
   "metadata": {},
   "source": [
    "# Automatic Differentiation: Make the computer do it\n",
    "\n",
    "In one implementation of *forward-mode* automatic differentiation (autodiff), we use \"dual numbers\" to carry forward partial derivatives along with our calculation. A dual number is similar to a complex number in that it has a real valued component, and an extra component. In the case of dual numbers the extra component is an \"infinitesimal\" component $\\epsilon$. Whereas in complex numbers, $i$ is defined by $i^2 = -1$, for dual numbers, $\\epsilon$ is defined by $\\epsilon^2 = 0$."
   ]
  },
  {
   "cell_type": "code",
   "execution_count": 18,
   "metadata": {
    "collapsed": false
   },
   "outputs": [],
   "source": [
    "using BenchmarkTools"
   ]
  },
  {
   "cell_type": "code",
   "execution_count": 1,
   "metadata": {
    "collapsed": true
   },
   "outputs": [],
   "source": [
    "# create a dual number type\n",
    "immutable Dual\n",
    "    value::Float64\n",
    "    eps::Float64\n",
    "end"
   ]
  },
  {
   "cell_type": "markdown",
   "metadata": {},
   "source": [
    "We'll attempt to differentiate the function\n",
    "\n",
    "$$f(x) = x^2 + x \\sin(x)$$\n",
    "\n",
    "which seems moderately interesting."
   ]
  },
  {
   "cell_type": "code",
   "execution_count": 2,
   "metadata": {
    "collapsed": false
   },
   "outputs": [
    {
     "data": {
      "text/plain": [
       "f (generic function with 1 method)"
      ]
     },
     "execution_count": 2,
     "metadata": {},
     "output_type": "execute_result"
    }
   ],
   "source": [
    "# define a test function:\n",
    "f(x) = x^2 + x * sin(x)"
   ]
  },
  {
   "cell_type": "code",
   "execution_count": 3,
   "metadata": {
    "collapsed": false
   },
   "outputs": [
    {
     "data": {
      "text/plain": [
       "1.8414709848078965"
      ]
     },
     "execution_count": 3,
     "metadata": {},
     "output_type": "execute_result"
    }
   ],
   "source": [
    "f(1.)"
   ]
  },
  {
   "cell_type": "markdown",
   "metadata": {},
   "source": [
    "So we'll need to know how to multiply, add and take the sine of our `Dual` type."
   ]
  },
  {
   "cell_type": "code",
   "execution_count": 4,
   "metadata": {
    "collapsed": true
   },
   "outputs": [],
   "source": [
    "import Base: +, *, sin"
   ]
  },
  {
   "cell_type": "code",
   "execution_count": 5,
   "metadata": {
    "collapsed": false
   },
   "outputs": [
    {
     "data": {
      "text/plain": [
       "* (generic function with 152 methods)"
      ]
     },
     "execution_count": 5,
     "metadata": {},
     "output_type": "execute_result"
    }
   ],
   "source": [
    "*(x::Dual, y::Dual) = Dual(x.value * y.value, x.value * y.eps + y.value * x.eps)"
   ]
  },
  {
   "cell_type": "code",
   "execution_count": 6,
   "metadata": {
    "collapsed": false
   },
   "outputs": [
    {
     "data": {
      "text/plain": [
       "+ (generic function with 164 methods)"
      ]
     },
     "execution_count": 6,
     "metadata": {},
     "output_type": "execute_result"
    }
   ],
   "source": [
    "+(x::Dual, y::Dual) = Dual(x.value + y.value, x.eps + y.eps)"
   ]
  },
  {
   "cell_type": "code",
   "execution_count": 7,
   "metadata": {
    "collapsed": false
   },
   "outputs": [
    {
     "data": {
      "text/plain": [
       "sin (generic function with 11 methods)"
      ]
     },
     "execution_count": 7,
     "metadata": {},
     "output_type": "execute_result"
    }
   ],
   "source": [
    "sin(x::Dual) = Dual(sin(x.value), cos(x.value) * x.eps)"
   ]
  },
  {
   "cell_type": "markdown",
   "metadata": {},
   "source": [
    "Sweet! Now we'll try to run it!"
   ]
  },
  {
   "cell_type": "code",
   "execution_count": null,
   "metadata": {
    "collapsed": true
   },
   "outputs": [],
   "source": [
    "println(f(3.))"
   ]
  },
  {
   "cell_type": "code",
   "execution_count": 20,
   "metadata": {
    "collapsed": false
   },
   "outputs": [
    {
     "data": {
      "text/plain": [
       "BenchmarkTools.Trial: \n",
       "  samples:          10000\n",
       "  evals/sample:     976\n",
       "  time tolerance:   5.00%\n",
       "  memory tolerance: 1.00%\n",
       "  memory estimate:  96.00 bytes\n",
       "  allocs estimate:  3\n",
       "  minimum time:     81.00 ns (0.00% GC)\n",
       "  median time:      82.00 ns (0.00% GC)\n",
       "  mean time:        89.80 ns (6.19% GC)\n",
       "  maximum time:     2.58 μs (95.16% GC)"
      ]
     },
     "execution_count": 20,
     "metadata": {},
     "output_type": "execute_result"
    }
   ],
   "source": [
    "@benchmark f(Dual(3., 1.))"
   ]
  },
  {
   "cell_type": "markdown",
   "metadata": {
    "collapsed": true
   },
   "source": [
    "Check it:"
   ]
  },
  {
   "cell_type": "code",
   "execution_count": 9,
   "metadata": {
    "collapsed": false
   },
   "outputs": [
    {
     "data": {
      "text/plain": [
       "fprime (generic function with 1 method)"
      ]
     },
     "execution_count": 9,
     "metadata": {},
     "output_type": "execute_result"
    }
   ],
   "source": [
    "fprime(x) = 2 * x + sin(x) + x * cos(x)"
   ]
  },
  {
   "cell_type": "code",
   "execution_count": 19,
   "metadata": {
    "collapsed": false
   },
   "outputs": [
    {
     "data": {
      "text/plain": [
       "BenchmarkTools.Trial: \n",
       "  samples:          10000\n",
       "  evals/sample:     995\n",
       "  time tolerance:   5.00%\n",
       "  memory tolerance: 1.00%\n",
       "  memory estimate:  0.00 bytes\n",
       "  allocs estimate:  0\n",
       "  minimum time:     33.00 ns (0.00% GC)\n",
       "  median time:      33.00 ns (0.00% GC)\n",
       "  mean time:        33.22 ns (0.00% GC)\n",
       "  maximum time:     102.00 ns (0.00% GC)"
      ]
     },
     "execution_count": 19,
     "metadata": {},
     "output_type": "execute_result"
    }
   ],
   "source": [
    "@benchmark fprime(3.)"
   ]
  },
  {
   "cell_type": "code",
   "execution_count": 11,
   "metadata": {
    "collapsed": false
   },
   "outputs": [
    {
     "name": "stdout",
     "output_type": "stream",
     "text": [
      "\t.text\n",
      "Filename: In[2]\n",
      "\tpushq\t%rbp\n",
      "\tmovq\t%rsp, %rbp\n",
      "\tpushq\t%r15\n",
      "\tpushq\t%r14\n",
      "\tpushq\t%r12\n",
      "\tpushq\t%rbx\n",
      "\tsubq\t$80, %rsp\n",
      "\tmovq\t%rsi, %rbx\n",
      "\tmovq\t%rdi, %r14\n",
      "\tmovq\t%fs:0, %r12\n",
      "\taddq\t$-2672, %r12            # imm = 0xFFFFFFFFFFFFF590\n",
      "\tleaq\t-56(%rbp), %r15\n",
      "\tvxorps\t%xmm0, %xmm0, %xmm0\n",
      "\tvmovups\t%xmm0, -56(%rbp)\n",
      "\tmovq\t$0, -40(%rbp)\n",
      "\tmovq\t$8, -80(%rbp)\n",
      "\tmovq\t(%r12), %rax\n",
      "\tmovq\t%rax, -72(%rbp)\n",
      "\tleaq\t-80(%rbp), %rax\n",
      "\tmovq\t%rax, (%r12)\n",
      "\tmovq\t$0, -64(%rbp)\n",
      "Source line: 2\n",
      "\tmovabsq\t$power_by_squaring, %rax\n",
      "\tmovl\t$2, %esi\n",
      "\tmovq\t%rbx, %rdi\n",
      "\tcallq\t*%rax\n",
      "\tmovq\t%rax, -48(%rbp)\n",
      "Source line: 1\n",
      "\tmovabsq\t$sin, %rax\n",
      "\tvmovsd\t(%rbx), %xmm0           # xmm0 = mem[0],zero\n",
      "Source line: 2\n",
      "\tvmovsd\t%xmm0, -88(%rbp)\n",
      "\tvmovsd\t8(%rbx), %xmm1          # xmm1 = mem[0],zero\n",
      "Source line: 1\n",
      "\tvmovsd\t%xmm1, -104(%rbp)\n",
      "\tcallq\t*%rax\n",
      "\tvmovsd\t%xmm0, -112(%rbp)\n",
      "\tmovabsq\t$cos, %rax\n",
      "\tvmovsd\t-88(%rbp), %xmm0        # xmm0 = mem[0],zero\n",
      "\tcallq\t*%rax\n",
      "\tvmovsd\t-104(%rbp), %xmm3       # xmm3 = mem[0],zero\n",
      "Source line: 2\n",
      "\tvmulsd\t%xmm3, %xmm0, %xmm0\n",
      "\tvmovsd\t-88(%rbp), %xmm2        # xmm2 = mem[0],zero\n",
      "\tvmovsd\t-112(%rbp), %xmm4       # xmm4 = mem[0],zero\n",
      "\tvmulsd\t%xmm2, %xmm4, %xmm1\n",
      "\tvmovsd\t%xmm1, -96(%rbp)\n",
      "\tvmulsd\t%xmm0, %xmm2, %xmm0\n",
      "\tvmulsd\t%xmm3, %xmm4, %xmm1\n",
      "\tvaddsd\t%xmm1, %xmm0, %xmm0\n",
      "\tvmovsd\t%xmm0, -88(%rbp)\n",
      "\tmovabsq\t$140243572642072, %rbx  # imm = 0x7F8D00545118\n",
      "\tmovq\t%rbx, -56(%rbp)\n",
      "\tmovabsq\t$jl_gc_pool_alloc, %rax\n",
      "\tmovl\t$1456, %esi             # imm = 0x5B0\n",
      "\tmovl\t$32, %edx\n",
      "\tmovq\t%r12, %rdi\n",
      "\tcallq\t*%rax\n",
      "\taddq\t$108627608, %rbx        # imm = 0x6798698\n",
      "\tmovq\t%rbx, -8(%rax)\n",
      "\tvmovsd\t-96(%rbp), %xmm0        # xmm0 = mem[0],zero\n",
      "\tvmovsd\t%xmm0, (%rax)\n",
      "\tvmovsd\t-88(%rbp), %xmm0        # xmm0 = mem[0],zero\n",
      "\tvmovsd\t%xmm0, 8(%rax)\n",
      "\tmovq\t%rax, -40(%rbp)\n",
      "\tmovabsq\t$jl_apply_generic, %rax\n",
      "\tmovl\t$3, %esi\n",
      "\tmovq\t%r15, %rdi\n",
      "\tcallq\t*%rax\n",
      "\tmovq\t%rax, -64(%rbp)\n",
      "\tvmovups\t(%rax), %xmm0\n",
      "\tvmovups\t%xmm0, (%r14)\n",
      "\tmovq\t-72(%rbp), %rax\n",
      "\tmovq\t%rax, (%r12)\n",
      "\tmovq\t%r14, %rax\n",
      "\taddq\t$80, %rsp\n",
      "\tpopq\t%rbx\n",
      "\tpopq\t%r12\n",
      "\tpopq\t%r14\n",
      "\tpopq\t%r15\n",
      "\tpopq\t%rbp\n",
      "\tretq\n",
      "\tnopw\t%cs:(%rax,%rax)\n"
     ]
    }
   ],
   "source": [
    "@code_native f(Dual(3., 1.))"
   ]
  },
  {
   "cell_type": "code",
   "execution_count": 14,
   "metadata": {
    "collapsed": false
   },
   "outputs": [
    {
     "name": "stdout",
     "output_type": "stream",
     "text": [
      "\t.text\n",
      "Filename: In[9]\n",
      "\tpushq\t%rbp\n",
      "\tmovq\t%rsp, %rbp\n",
      "Source line: 1\n",
      "\tsubq\t$16, %rsp\n",
      "\tvmovsd\t%xmm0, -8(%rbp)\n",
      "\tmovabsq\t$sin, %rax\n",
      "\tcallq\t*%rax\n",
      "\tvmovsd\t%xmm0, -16(%rbp)\n",
      "\tmovabsq\t$cos, %rax\n",
      "\tvmovsd\t-8(%rbp), %xmm0         # xmm0 = mem[0],zero\n",
      "\tcallq\t*%rax\n",
      "\tvmovsd\t-8(%rbp), %xmm2         # xmm2 = mem[0],zero\n",
      "\tvaddsd\t%xmm2, %xmm2, %xmm1\n",
      "\tvaddsd\t-16(%rbp), %xmm1, %xmm1\n",
      "\tvmulsd\t%xmm2, %xmm0, %xmm0\n",
      "\tvaddsd\t%xmm0, %xmm1, %xmm0\n",
      "\taddq\t$16, %rsp\n",
      "\tpopq\t%rbp\n",
      "\tretq\n",
      "\tnopl\t(%rax,%rax)\n"
     ]
    }
   ],
   "source": [
    "@code_native fprime(3.)"
   ]
  },
  {
   "cell_type": "code",
   "execution_count": null,
   "metadata": {
    "collapsed": true
   },
   "outputs": [],
   "source": []
  }
 ],
 "metadata": {
  "kernelspec": {
   "display_name": "Julia 0.6.0-dev",
   "language": "julia",
   "name": "julia-0.6"
  },
  "language_info": {
   "file_extension": ".jl",
   "mimetype": "application/julia",
   "name": "julia",
   "version": "0.6.0"
  }
 },
 "nbformat": 4,
 "nbformat_minor": 0
}
